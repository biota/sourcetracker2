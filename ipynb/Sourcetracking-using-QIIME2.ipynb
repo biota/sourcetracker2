{
 "cells": [
  {
   "cell_type": "markdown",
   "metadata": {},
   "source": [
    "## This notebook explains how to use sourcetracking in QIIME 2\n",
    "\n",
    "Note: For a more detailed description of the theory behind microbial sourcetracking see the notebook `Sourcetracking using a Gibbs Sampler`.\n",
    "\n",
    "In order to perform microbial sourcetracking we will need two files (imported into QIIME 2):\n",
    "\n",
    "* A count table of the type `FeatureTable[RelativeFrequency]` (example: data/tiny-test/otu_table.qza)\n",
    "* A metadata file in QIIME format (example: data/tiny-test/map.txt)\n",
    "\n",
    "For downstream visualization we will also need:\n",
    "\n",
    "* taxonomy.qza `FeatureData[Taxonomy]` (example: data/tiny-test/taxonomy.qza)\n",
    "\n",
    "In the metadata we will need to identify two columns. \n",
    "\n",
    "First, we need to identify the column classifying samples as `sources` or `sinks` and the values associated with each. This can be given as:\n",
    "\n",
    "    --p-source-sink-column SourceSink\n",
    "\n",
    "The values for each sources and sinks can be input as lists with no spaces as such:\n",
    "\n",
    "    --p-source-column-value Source1,Source2\n",
    "    --p-sink-column-value Sink1,Sink2\n",
    "\n",
    "``` Note: In our case we only have two values source & sink```\n",
    "\n",
    "Second, we will need to specify the environment each source represents.\n",
    "\n",
    "    --p-source-category-column Env\n",
    "\n",
    "``` Note: There are many other parameters in the command that can help tune the sourcetracking, for an in depth description of how to choose them see the other notebooks.``` \n",
    "\n",
    "One parameter worth discussing here is the `--p-loo / --p-no-loo`. The `--p-loo` flag will produce per source feature assignments. While the `--p-no-loo` will produce produce per sink feature assignments. Below we will run both examples.\n",
    "\n"
   ]
  },
  {
   "cell_type": "code",
   "execution_count": 11,
   "metadata": {},
   "outputs": [
    {
     "name": "stdout",
     "output_type": "stream",
     "text": [
      "\u001b[33mQIIME is caching your current deployment for improved performance. This may take a few moments and should only happen once per deployment.\u001b[0m\r\n"
     ]
    }
   ],
   "source": [
    "!qiime dev refresh-cache "
   ]
  },
  {
   "cell_type": "code",
   "execution_count": 5,
   "metadata": {
    "scrolled": true
   },
   "outputs": [
    {
     "name": "stdout",
     "output_type": "stream",
     "text": [
      "\u001b[32mSaved FeatureTable[RelativeFrequency] to: qiime2-results/sourcetracker-loo/mixing_proportions.qza\u001b[0m\n",
      "\u001b[32mSaved FeatureTable[RelativeFrequency] to: qiime2-results/sourcetracker-loo/mixing_proportion_stds.qza\u001b[0m\n",
      "\u001b[32mSaved FeatureTable[RelativeFrequency] to: qiime2-results/sourcetracker-loo/per_sink_assignments.qza\u001b[0m\n",
      "\u001b[32mSaved SampleData[SinkSourceMap] to: qiime2-results/sourcetracker-loo/per_sink_assignments_map.qza\u001b[0m\n"
     ]
    }
   ],
   "source": [
    "!qiime sourcetracker2 gibbs \\\n",
    "    --i-feature-table ../data/tiny-test/otu_table.qza \\\n",
    "    --m-sample-metadata-file ../data/tiny-test/map.txt \\\n",
    "    --p-source-sink-column SourceSink \\\n",
    "    --p-loo \\\n",
    "    --p-source-column-value source \\\n",
    "    --p-sink-column-value sink \\\n",
    "    --p-source-category-column Env \\\n",
    "    --output-dir qiime2-results/sourcetracker-loo"
   ]
  },
  {
   "cell_type": "markdown",
   "metadata": {},
   "source": [
    "Now we can generate a barplot composite of the results using the built in barplot command."
   ]
  },
  {
   "cell_type": "code",
   "execution_count": 6,
   "metadata": {},
   "outputs": [
    {
     "name": "stdout",
     "output_type": "stream",
     "text": [
      "\u001b[32mSaved Visualization to: qiime2-results/sourcetracker-loo/proportions-barplot.qzv\u001b[0m\r\n"
     ]
    }
   ],
   "source": [
    "!qiime sourcetracker2 barplot\\\n",
    "    --i-proportions qiime2-results/sourcetracker-loo/mixing_proportions.qza \\\n",
    "    --m-sample-metadata-file ../data/tiny-test/map.txt\\\n",
    "    --o-visualization qiime2-results/sourcetracker-loo/proportions-barplot.qzv"
   ]
  },
  {
   "cell_type": "markdown",
   "metadata": {},
   "source": [
    "This command should produce an interactive barplot that can be viewed at [https://view.qiime2.org/](https://view.qiime2.org/). It will look something like the following screen shot.\n",
    "\n",
    "![allbatloo](qiime2-results/screen-shots/all-bar-loo.png)\n",
    "\n",
    "Now we can track the contribution of each feature (i.e. gene/taxon/ASV) to the sources. To visualize this we will need to specify each source individually. "
   ]
  },
  {
   "cell_type": "code",
   "execution_count": 54,
   "metadata": {},
   "outputs": [
    {
     "name": "stdout",
     "output_type": "stream",
     "text": [
      "\u001b[32mSaved Visualization to: qiime2-results/sourcetracker-loo/drainwater-sink-assignments-barplot.qzv\u001b[0m\n",
      "\u001b[32mSaved Visualization to: qiime2-results/sourcetracker-loo/seawater-sink-assignments-barplot.qzv\u001b[0m\n",
      "\u001b[32mSaved Visualization to: qiime2-results/sourcetracker-loo/sewage-sink-assignments-barplot.qzv\u001b[0m\n"
     ]
    }
   ],
   "source": [
    "!qiime sourcetracker2 assignment-barplot\\\n",
    "    --i-feature-assignments qiime2-results/sourcetracker-loo/per_sink_assignments.qza\\\n",
    "    --i-feature-metadata ../data/tiny-test/taxonomy.qza\\\n",
    "    --i-assignments-map qiime2-results/sourcetracker-loo/per_sink_assignments_map.qza\\\n",
    "    --p-per-value drainwater\\\n",
    "    --o-visualization qiime2-results/sourcetracker-loo/drainwater-sink-assignments-barplot.qzv\n",
    "\n",
    "!qiime sourcetracker2 assignment-barplot\\\n",
    "    --i-feature-assignments qiime2-results/sourcetracker-loo/per_sink_assignments.qza\\\n",
    "    --i-feature-metadata ../data/tiny-test/taxonomy.qza\\\n",
    "    --i-assignments-map qiime2-results/sourcetracker-loo/per_sink_assignments_map.qza\\\n",
    "    --p-per-value seawater\\\n",
    "    --o-visualization qiime2-results/sourcetracker-loo/seawater-sink-assignments-barplot.qzv\n",
    "\n",
    "!qiime sourcetracker2 assignment-barplot\\\n",
    "    --i-feature-assignments qiime2-results/sourcetracker-loo/per_sink_assignments.qza\\\n",
    "    --i-feature-metadata ../data/tiny-test/taxonomy.qza\\\n",
    "    --i-assignments-map qiime2-results/sourcetracker-loo/per_sink_assignments_map.qza\\\n",
    "    --p-per-value sewage\\\n",
    "    --o-visualization qiime2-results/sourcetracker-loo/sewage-sink-assignments-barplot.qzv"
   ]
  },
  {
   "cell_type": "markdown",
   "metadata": {},
   "source": [
    "As an example we can take a look at the `sewage` plot (i.e. sewage-sink-assignments-barplot.qza). \n",
    "\n",
    "![sewage](qiime2-results/screen-shots/sewage-contribution.png)\n",
    "\n",
    "\n",
    "We can repeat this same protocol if we want to look at the feature contribution to each sink by specifying `--p-no-loo`."
   ]
  },
  {
   "cell_type": "code",
   "execution_count": 55,
   "metadata": {},
   "outputs": [
    {
     "name": "stdout",
     "output_type": "stream",
     "text": [
      "\u001b[32mSaved FeatureTable[RelativeFrequency] to: qiime2-results/sourcetracker-noloo/mixing_proportions.qza\u001b[0m\r\n",
      "\u001b[32mSaved FeatureTable[RelativeFrequency] to: qiime2-results/sourcetracker-noloo/mixing_proportion_stds.qza\u001b[0m\r\n",
      "\u001b[32mSaved FeatureTable[RelativeFrequency] to: qiime2-results/sourcetracker-noloo/per_sink_assignments.qza\u001b[0m\r\n",
      "\u001b[32mSaved SampleData[SinkSourceMap] to: qiime2-results/sourcetracker-noloo/per_sink_assignments_map.qza\u001b[0m\r\n"
     ]
    }
   ],
   "source": [
    "!qiime sourcetracker2 gibbs \\\n",
    "    --i-feature-table ../data/tiny-test/otu_table.qza \\\n",
    "    --m-sample-metadata-file ../data/tiny-test/map.txt \\\n",
    "    --p-source-sink-column SourceSink \\\n",
    "    --p-no-loo \\\n",
    "    --p-source-column-value source \\\n",
    "    --p-sink-column-value sink \\\n",
    "    --p-source-category-column Env \\\n",
    "    --output-dir qiime2-results/sourcetracker-noloo"
   ]
  },
  {
   "cell_type": "markdown",
   "metadata": {},
   "source": [
    "We can visualize the contributions the same as before but with a new x-axis.\n",
    "\n",
    "![sewage](qiime2-results/screen-shots/all-bar-noloo.png)\n",
    "\n"
   ]
  },
  {
   "cell_type": "code",
   "execution_count": 56,
   "metadata": {},
   "outputs": [
    {
     "name": "stdout",
     "output_type": "stream",
     "text": [
      "\u001b[32mSaved Visualization to: qiime2-results/sourcetracker-noloo/proportions-barplot.qzv\u001b[0m\r\n"
     ]
    }
   ],
   "source": [
    "!qiime sourcetracker2 barplot\\\n",
    "    --i-proportions qiime2-results/sourcetracker-noloo/mixing_proportions.qza \\\n",
    "    --m-sample-metadata-file ../data/tiny-test/map.txt\\\n",
    "    --o-visualization qiime2-results/sourcetracker-noloo/proportions-barplot.qzv"
   ]
  },
  {
   "cell_type": "markdown",
   "metadata": {},
   "source": [
    "Finally, we can visualize the feature contributions to each sink. We can see what options we have by tabulating the metadata."
   ]
  },
  {
   "cell_type": "code",
   "execution_count": 60,
   "metadata": {},
   "outputs": [
    {
     "name": "stdout",
     "output_type": "stream",
     "text": [
      "\u001b[32mSaved Visualization to: qiime2-results/sourcetracker-noloo/per_sink_assignments_map.qzv\u001b[0m\r\n"
     ]
    }
   ],
   "source": [
    "!qiime metadata tabulate\\\n",
    "    --m-input-file qiime2-results/sourcetracker-noloo/per_sink_assignments_map.qza\\\n",
    "    --o-visualization qiime2-results/sourcetracker-noloo/per_sink_assignments_map.qzv\\"
   ]
  },
  {
   "attachments": {},
   "cell_type": "markdown",
   "metadata": {},
   "source": [
    "The output of tabulate will look something like the following\n",
    "\n",
    "![s0](qiime2-results/screen-shots/tabulate.png)\n"
   ]
  },
  {
   "cell_type": "markdown",
   "metadata": {},
   "source": [
    "From this we can choose from the first columns set of values. As an example we will take a look at sink `s0`.\n",
    "\n",
    "Note that each visualization command must be run for each sink. "
   ]
  },
  {
   "cell_type": "code",
   "execution_count": 58,
   "metadata": {},
   "outputs": [
    {
     "name": "stdout",
     "output_type": "stream",
     "text": [
      "\u001b[32mSaved Visualization to: qiime2-results/sourcetracker-noloo/s0-sink-assignments-barplot.qzv\u001b[0m\r\n"
     ]
    }
   ],
   "source": [
    "!qiime sourcetracker2 assignment-barplot\\\n",
    "    --i-feature-assignments qiime2-results/sourcetracker-noloo/per_sink_assignments.qza\\\n",
    "    --i-feature-metadata ../data/tiny-test/taxonomy.qza\\\n",
    "    --i-assignments-map qiime2-results/sourcetracker-noloo/per_sink_assignments_map.qza\\\n",
    "    --p-per-value s0\\\n",
    "    --o-visualization qiime2-results/sourcetracker-noloo/s0-sink-assignments-barplot.qzv"
   ]
  },
  {
   "cell_type": "markdown",
   "metadata": {},
   "source": [
    "![s0](qiime2-results/screen-shots/s0-contribution.png)\n"
   ]
  }
 ],
 "metadata": {
  "kernelspec": {
   "display_name": "Python 3",
   "language": "python",
   "name": "python3"
  },
  "language_info": {
   "codemirror_mode": {
    "name": "ipython",
    "version": 3
   },
   "file_extension": ".py",
   "mimetype": "text/x-python",
   "name": "python",
   "nbconvert_exporter": "python",
   "pygments_lexer": "ipython3",
   "version": "3.6.7"
  }
 },
 "nbformat": 4,
 "nbformat_minor": 2
}
